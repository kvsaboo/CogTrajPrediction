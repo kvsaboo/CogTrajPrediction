{
 "cells": [
  {
   "cell_type": "code",
   "execution_count": 1,
   "metadata": {},
   "outputs": [],
   "source": [
    "import os\n",
    "working_dir = os.getcwd()\n",
    "if working_dir.endswith('\\\\CogTrajPrediction\\\\notebooks'):\n",
    "    os.chdir('../')"
   ]
  },
  {
   "cell_type": "code",
   "execution_count": 2,
   "metadata": {},
   "outputs": [],
   "source": [
    "import torch\n",
    "from torch import nn\n",
    "import torch.nn.functional as F\n",
    "from torch import optim\n",
    "\n",
    "import src.data.make_dataset as make_dataset\n",
    "import src.models.cognetmodel as cognetmodel\n",
    "from src.models import interpret\n",
    "from src.visualization import visualize\n",
    "\n",
    "import pandas as pd\n",
    "import numpy as np\n",
    "import matplotlib.pyplot as plt"
   ]
  },
  {
   "cell_type": "markdown",
   "metadata": {},
   "source": [
    "### Data pre-processing"
   ]
  },
  {
   "cell_type": "code",
   "execution_count": 3,
   "metadata": {
    "scrolled": true
   },
   "outputs": [],
   "source": [
    "# load dataset\n",
    "cogmeasure = 'PZGLOBAL'\n",
    "df = pd.read_csv('data/raw/Example_data.csv', index_col='PTID')\n",
    "\n",
    "# features and labels to the model\n",
    "br_features = [item for item in df.columns if ('BRM' in item)]\n",
    "clinical_features = ['EDUC','AGEMRI', 'AMYLOID', 'CMCbi']\n",
    "col_cog0 = [cogmeasure]    # 'PZGLOBAL'\n",
    "\n",
    "features =  br_features + clinical_features + col_cog0\n",
    "labels = [item for item in df.columns if 'fu_' in item]\n",
    "\n",
    "# normalizing features: standardize them since they may have different scales\n",
    "normalization_list = dict.fromkeys([item for item in features])\n",
    "for item in normalization_list.keys():\n",
    "    normalization_list[item] = 'standard'\n",
    "\n",
    "# preprocessing - removing nan values from features\n",
    "preprocfeatures = br_features + clinical_features + col_cog0\n",
    "preprocdf = make_dataset.preprocessing_rmnan(df, preprocfeatures, labels)\n",
    "\n",
    "# split data into training, validation, test    \n",
    "train_X, val_X, test_X, train_Y, val_Y, test_Y, normalizn_params = make_dataset.train_val_test_split_wnorm(preprocdf, train_frac=0.8, \n",
    "                                                                                                 test_frac=0.1, Xvar=features, \n",
    "                                                                                                 Yvar=labels, \n",
    "                                                                                                 normalization=normalization_list)\n",
    "\n",
    "# standardizing the trajectory based on training data baseline cognition values\n",
    "train_Y = make_dataset.normalize_labels(train_Y, labels, 'standard', normalizn_params[col_cog0[0]], keep_invalid_entries=True)\n",
    "val_Y = make_dataset.normalize_labels(val_Y, labels, 'standard', normalizn_params[col_cog0[0]], keep_invalid_entries=True)\n",
    "test_Y = make_dataset.normalize_labels(test_Y, labels, 'standard', normalizn_params[col_cog0[0]], keep_invalid_entries=True)"
   ]
  },
  {
   "cell_type": "markdown",
   "metadata": {},
   "source": [
    "#### Reformat data to fit torch model requirements"
   ]
  },
  {
   "cell_type": "code",
   "execution_count": 4,
   "metadata": {},
   "outputs": [],
   "source": [
    "# training set\n",
    "x_br, x_cf, cog0, truth, truth_mask = make_dataset.format_for_CogNet(train_X, train_Y, br_features, clinical_features, col_cog0, labels)\n",
    "\n",
    "\n",
    "# validation set\n",
    "x_br_val, x_cf_val, cog0_val, truth_val, truth_mask_val = make_dataset.format_for_CogNet(val_X, val_Y, br_features, \n",
    "                                                                                 clinical_features, col_cog0, labels)\n",
    "\n",
    "# test set\n",
    "x_br_test, x_cf_test, cog0_test, truth_test, truth_mask_test = make_dataset.format_for_CogNet(test_X, test_Y, br_features, \n",
    "                                                                                 clinical_features, col_cog0, labels)"
   ]
  },
  {
   "cell_type": "markdown",
   "metadata": {},
   "source": [
    "### Specify model parameters"
   ]
  },
  {
   "cell_type": "code",
   "execution_count": 5,
   "metadata": {},
   "outputs": [],
   "source": [
    "model = cognetmodel.CogNetWtShare_drop_leaky_2_2(col_br=br_features, col_cf=clinical_features, \n",
    "                                                 num_br_hid=10, num_br_hid_2=6, \n",
    "                                                 num_br_long=6, num_br_long_2=4)\n",
    "\n",
    "optimizer = optim.Adam(model.parameters(), lr=0.003)\n",
    "loss = cognetmodel.modifiedMSELoss()"
   ]
  },
  {
   "cell_type": "markdown",
   "metadata": {},
   "source": [
    "### Train and evaluate the model"
   ]
  },
  {
   "cell_type": "code",
   "execution_count": 6,
   "metadata": {
    "scrolled": true
   },
   "outputs": [
    {
     "name": "stdout",
     "output_type": "stream",
     "text": [
      "Loss: 1.82\n",
      "Loss: 0.66\n",
      "Loss: 0.67\n",
      "Loss: 0.64\n"
     ]
    }
   ],
   "source": [
    "max_epochs = 2000\n",
    "train_loss = np.zeros((max_epochs, len(labels)+1)) # one for each time point i.e, number of labels and one for the average of all time points\n",
    "val_loss = np.zeros((max_epochs, len(labels)+1))\n",
    "test_loss = np.zeros((max_epochs, len(labels)+1))\n",
    "test_pred_list = []\n",
    "val_loss_best = np.Inf\n",
    "\n",
    "for e in range(max_epochs):\n",
    "    # use dropout and gradient computation while training the model\n",
    "    model.train()\n",
    "    pred = model(x_br, x_cf, cog0)[:5]\n",
    "    optimizer.zero_grad()\n",
    "    ls = loss(pred, truth, truth_mask)\n",
    "    ls.backward()\n",
    "    optimizer.step()\n",
    "    \n",
    "    # while evaluating the model, modify dropout apporpriately and do not compute gradients\n",
    "    with torch.no_grad():\n",
    "        model.eval()\n",
    "        # evaluation on training data to compute training loss\n",
    "        train_loss[e,:] = cognetmodel.mseloss_all(torch.cat(pred, dim=1), truth)\n",
    "        \n",
    "        # validation loss\n",
    "        pred_val = model(x_br_val, x_cf_val, cog0_val)[:5]\n",
    "        val_loss[e,:] = cognetmodel.mseloss_all(torch.cat(pred_val, dim=1), truth_val)\n",
    "        \n",
    "        # test loss\n",
    "        pred_test = model(x_br_test, x_cf_test, cog0_test)[:5]\n",
    "        test_loss[e,:] = cognetmodel.mseloss_all(torch.cat(pred_test, dim=1), truth_test)\n",
    "        test_pred_list.append(pred_test) # predicted trajectory\n",
    "        \n",
    "        # pick the best model based on the validation loss\n",
    "        if val_loss[e,-1] < val_loss_best:\n",
    "            val_loss_best = val_loss[e,-1]\n",
    "    \n",
    "    # print training loss\n",
    "    if e % 500 == 0:\n",
    "        print('Loss: %.2f' % ls)\n"
   ]
  },
  {
   "cell_type": "code",
   "execution_count": 7,
   "metadata": {},
   "outputs": [
    {
     "data": {
      "image/png": "[encoded data removed]",
      "text/plain": [
       "<Figure size 432x288 with 1 Axes>"
      ]
     },
     "metadata": {
      "needs_background": "light"
     },
     "output_type": "display_data"
    }
   ],
   "source": [
    "plt.plot(train_loss[:,-1])\n",
    "plt.plot(val_loss[:,-1])\n",
    "plt.show()"
   ]
  },
  {
   "cell_type": "code",
   "execution_count": 8,
   "metadata": {},
   "outputs": [
    {
     "data": {
      "text/plain": [
       "array([0.10174661, 0.29381946, 0.46091217, 0.64332104, 0.73381764,\n",
       "       0.4467234 ])"
      ]
     },
     "execution_count": 8,
     "metadata": {},
     "output_type": "execute_result"
    }
   ],
   "source": [
    "# testing loss for best model during training\n",
    "test_loss[np.argmin(val_loss[:,-1]),:]"
   ]
  },
  {
   "cell_type": "markdown",
   "metadata": {},
   "source": [
    "### Visualizing the ground truth and predicted trajectories"
   ]
  },
  {
   "cell_type": "code",
   "execution_count": 9,
   "metadata": {},
   "outputs": [],
   "source": [
    "vizdf = interpret.format_result_for_viz(test_pred_list[np.argmin(val_loss[:,-1])], test_Y, \n",
    "                                        test_X[cogmeasure]).sort_index()"
   ]
  },
  {
   "cell_type": "code",
   "execution_count": 10,
   "metadata": {
    "scrolled": true
   },
   "outputs": [
    {
     "data": {
      "image/png": "[encoded data removed]",
      "text/plain": [
       "<Figure size 432x288 with 1 Axes>"
      ]
     },
     "metadata": {
      "needs_background": "light"
     },
     "output_type": "display_data"
    }
   ],
   "source": [
    "# specicy the index of the individuals to plot\n",
    "visualize.plot_truth_against_pred(vizdf.iloc[10:11],cogmeasure=cogmeasure)\n",
    "plt.ylabel('Cognition')\n",
    "plt.xlabel('Year')\n",
    "plt.legend(['ground truth','predicted'])\n",
    "plt.title('Observed vs predicted trajectory for an individual')\n",
    "plt.show()"
   ]
  },
  {
   "cell_type": "code",
   "execution_count": null,
   "metadata": {},
   "outputs": [],
   "source": []
  }
 ],
 "metadata": {
  "kernelspec": {
   "display_name": "Python 3",
   "language": "python",
   "name": "python3"
  },
  "language_info": {
   "codemirror_mode": {
    "name": "ipython",
    "version": 3
   },
   "file_extension": ".py",
   "mimetype": "text/x-python",
   "name": "python",
   "nbconvert_exporter": "python",
   "pygments_lexer": "ipython3",
   "version": "3.6.8"
  }
 },
 "nbformat": 4,
 "nbformat_minor": 2
}
